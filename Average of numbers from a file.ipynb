{
 "cells": [
  {
   "cell_type": "code",
   "execution_count": null,
   "metadata": {},
   "outputs": [],
   "source": [
    "#Write a program that prompts for a file name, then opens that file and reads through the file, looking for lines of the form:\n",
    "#X-DSPAM-Confidence: 0.8475\n",
    "#Count these lines and extract the floating point values from each of the lines and compute the average of those values and produce an output as shown below.\n",
    "#Do not use the sum() function or a variable named sum in your solution.\n",
    "\n",
    "#Use the file name mbox-short.txt as the file name\n",
    "fname = input(\"Enter file name: \")\n",
    "fh = open(fname)\n",
    "count = 0\n",
    "total = 0\n",
    "for line in fh:\n",
    "    if not line.startswith(\"X-DSPAM-Confidence:\") : continue\n",
    "    count = count + 1\n",
    "    line = line.rstrip()\n",
    "    atpos = line.find(':')\n",
    "    data = float(line[atpos+1:])\n",
    "    total = total + data\n",
    "    \n",
    "average = total/count\n",
    "print('Average spam confidence:', average)\n"
   ]
  }
 ],
 "metadata": {
  "kernelspec": {
   "display_name": "Python 3",
   "language": "python",
   "name": "python3"
  },
  "language_info": {
   "codemirror_mode": {
    "name": "ipython",
    "version": 3
   },
   "file_extension": ".py",
   "mimetype": "text/x-python",
   "name": "python",
   "nbconvert_exporter": "python",
   "pygments_lexer": "ipython3",
   "version": "3.7.6"
  }
 },
 "nbformat": 4,
 "nbformat_minor": 4
}
